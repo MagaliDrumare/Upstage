{
  "nbformat": 4,
  "nbformat_minor": 0,
  "metadata": {
    "colab": {
      "private_outputs": true,
      "provenance": [],
      "authorship_tag": "ABX9TyPOBwGjS6Ln6Eu6+VX6QlV6",
      "include_colab_link": true
    },
    "kernelspec": {
      "name": "python3",
      "display_name": "Python 3"
    },
    "language_info": {
      "name": "python"
    }
  },
  "cells": [
    {
      "cell_type": "markdown",
      "metadata": {
        "id": "view-in-github",
        "colab_type": "text"
      },
      "source": [
        "<a href=\"https://colab.research.google.com/github/MagaliDrumare/Upstage/blob/main/Upstage_ai_trabslation.ipynb\" target=\"_parent\"><img src=\"https://colab.research.google.com/assets/colab-badge.svg\" alt=\"Open In Colab\"/></a>"
      ]
    },
    {
      "cell_type": "code",
      "execution_count": null,
      "metadata": {
        "id": "-GtPTPY690HY"
      },
      "outputs": [],
      "source": [
        "!pip install openai\n"
      ]
    },
    {
      "cell_type": "code",
      "source": [
        "from openai import OpenAI # openai==1.2.0\n",
        "\n",
        "client = OpenAI(\n",
        "  api_key=\"XXXXXXXXXXXXXXXXX\",\n",
        "  base_url=\"https://api.upstage.ai/v1/solar\"\n",
        ")\n",
        "\n",
        "stream = client.chat.completions.create(\n",
        "  model=\"solar-1-mini-translate-koen\",\n",
        "  messages=[\n",
        "    {\n",
        "      \"role\": \"user\",\n",
        "      \"content\": \"아버지가방에들어가셨다\"\n",
        "    },\n",
        "    {\n",
        "      \"role\": \"assistant\",\n",
        "      \"content\": \"Father went into his room\"\n",
        "    },\n",
        "    {\n",
        "      \"role\": \"user\",\n",
        "      \"content\": \"엄마도들어가셨다\"\n",
        "    }\n",
        "  ],\n",
        "  stream=True,\n",
        ")\n",
        "\n",
        "for chunk in stream:\n",
        "  if chunk.choices[0].delta.content is not None:\n",
        "    print(chunk.choices[0].delta.content, end=\"\")\n",
        "\n",
        "# Use with stream=False\n",
        "# print(stream.choices[0].message.content)\n",
        ""
      ],
      "metadata": {
        "id": "UqMLdM9g-vLH"
      },
      "execution_count": null,
      "outputs": []
    }
  ]
}
